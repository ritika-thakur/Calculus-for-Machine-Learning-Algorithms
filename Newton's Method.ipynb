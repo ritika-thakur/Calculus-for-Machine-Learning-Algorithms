{
 "cells": [
  {
   "cell_type": "code",
   "execution_count": 2,
   "metadata": {},
   "outputs": [
    {
     "name": "stdout",
     "output_type": "stream",
     "text": [
      "The value of the function at each Newton's Method step is 2\n",
      "The value of the function at each Newton's Method step is 0.25\n",
      "The value of the function at each Newton's Method step is 0.03125\n",
      "The value of the function at each Newton's Method step is 0.00390625\n",
      "The value of the function at each Newton's Method step is 0.00048828125\n",
      "The value of the function at each Newton's Method step is 6.103515625e-05\n",
      "The value of the function at each Newton's Method step is 7.62939453125e-06\n",
      "Convergence has been achieved and the optimum value of x* is 0.00390625\n"
     ]
    }
   ],
   "source": [
    "x_initial = 1\n",
    "\n",
    "epsilon = 0.000001\n",
    "\n",
    "for _ in range(10):\n",
    "    \n",
    "    x_final = x_initial - ((6*x_initial**2)/(12*x_initial))\n",
    "    \n",
    "    if abs(2*x_initial**3 - 2*x_final**3) < epsilon:\n",
    "        \n",
    "        print(\"Convergence has been achieved and the optimum value of x* is {}\".format(x_final))\n",
    "        \n",
    "        break\n",
    "        \n",
    "    print(\"The value of the function at each Newton's Method step is {}\".format(2*x_initial**3))\n",
    "    \n",
    "    x_initial = x_final"
   ]
  },
  {
   "cell_type": "code",
   "execution_count": null,
   "metadata": {},
   "outputs": [],
   "source": []
  }
 ],
 "metadata": {
  "kernelspec": {
   "display_name": "Python 3",
   "language": "python",
   "name": "python3"
  },
  "language_info": {
   "codemirror_mode": {
    "name": "ipython",
    "version": 3
   },
   "file_extension": ".py",
   "mimetype": "text/x-python",
   "name": "python",
   "nbconvert_exporter": "python",
   "pygments_lexer": "ipython3",
   "version": "3.7.0"
  }
 },
 "nbformat": 4,
 "nbformat_minor": 2
}
